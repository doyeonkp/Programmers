{
  "nbformat": 4,
  "nbformat_minor": 0,
  "metadata": {
    "colab": {
      "provenance": [],
      "authorship_tag": "ABX9TyM03IGd/3ci2urZR7p1dPsg",
      "include_colab_link": true
    },
    "kernelspec": {
      "name": "python3",
      "display_name": "Python 3"
    },
    "language_info": {
      "name": "python"
    }
  },
  "cells": [
    {
      "cell_type": "markdown",
      "metadata": {
        "id": "view-in-github",
        "colab_type": "text"
      },
      "source": [
        "<a href=\"https://colab.research.google.com/github/doyeonkp/Programmers/blob/master/%EA%B5%AC%EB%AA%85%EB%B3%B4%ED%8A%B8.ipynb\" target=\"_parent\"><img src=\"https://colab.research.google.com/assets/colab-badge.svg\" alt=\"Open In Colab\"/></a>"
      ]
    },
    {
      "cell_type": "code",
      "execution_count": 33,
      "metadata": {
        "colab": {
          "base_uri": "https://localhost:8080/"
        },
        "id": "ligcJssWo-uK",
        "outputId": "80dfc020-f665-41a0-cd9f-860bd66c85aa"
      },
      "outputs": [
        {
          "output_type": "execute_result",
          "data": {
            "text/plain": [
              "3"
            ]
          },
          "metadata": {},
          "execution_count": 33
        }
      ],
      "source": [
        "def solution(people, limit) :\n",
        "    answer = 0\n",
        "    people.sort()\n",
        "    a = 0\n",
        "    b = len(people) - 1\n",
        "\n",
        "    while a < b :\n",
        "        if people[b] + people[a] <= limit :\n",
        "            a += 1\n",
        "            answer += 1\n",
        "        b -= 1\n",
        "\n",
        "    return len(people) - answer\n",
        "\n",
        "\n",
        "solution([70, 50, 80, 50], 100)\n",
        "solution([70, 80, 50], 100)"
      ]
    },
    {
      "cell_type": "code",
      "source": [
        "\"\""
      ],
      "metadata": {
        "id": "twl6C4YtpH2k"
      },
      "execution_count": null,
      "outputs": []
    }
  ]
}